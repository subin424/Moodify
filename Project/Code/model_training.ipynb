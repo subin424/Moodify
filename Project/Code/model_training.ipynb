{
 "cells": [
  {
   "cell_type": "code",
   "execution_count": 3,
   "metadata": {},
   "outputs": [
    {
     "name": "stderr",
     "output_type": "stream",
     "text": [
      "Some weights of ElectraForSequenceClassification were not initialized from the model checkpoint at monologg/koelectra-base-v3-generator and are newly initialized: ['classifier.dense.bias', 'classifier.dense.weight', 'classifier.out_proj.bias', 'classifier.out_proj.weight']\n",
      "You should probably TRAIN this model on a down-stream task to be able to use it for predictions and inference.\n",
      "c:\\Users\\Main\\AppData\\Local\\Programs\\Python\\Python312\\Lib\\site-packages\\transformers\\optimization.py:588: FutureWarning: This implementation of AdamW is deprecated and will be removed in a future version. Use the PyTorch implementation torch.optim.AdamW instead, or set `no_deprecation_warning=True` to disable this warning\n",
      "  warnings.warn(\n"
     ]
    },
    {
     "name": "stdout",
     "output_type": "stream",
     "text": [
      "Epoch 1, Loss: 0.7252038717269897\n",
      "Epoch 2, Loss: 0.6498829126358032\n",
      "Model saved to C:/Users/Main/Desktop/dataset/koelectra_model.pth\n"
     ]
    }
   ],
   "source": [
    "import pandas as pd\n",
    "import torch\n",
    "from transformers import AutoTokenizer, AutoModelForSequenceClassification\n",
    "from torch.optim import AdamW  # PyTorch의 AdamW 사용\n",
    "from sklearn.model_selection import train_test_split\n",
    "from sklearn.metrics import accuracy_score, classification_report\n",
    "from sklearn.preprocessing import LabelEncoder\n",
    "\n",
    "# 정제된 데이터 파일 경로 설정\n",
    "output_excel_file = 'C:/Users/Main/Desktop/dataset/Dataset.xlsx'\n",
    "\n",
    "# 데이터프레임으로 데이터 로드\n",
    "df = pd.read_excel(output_excel_file)\n",
    "\n",
    "# 텍스트 및 레이블 열 설정\n",
    "text_column = 'Sentence'\n",
    "label_column = 'Emotion'\n",
    "\n",
    "# 학습 및 평가에 사용할 텍스트와 레이블 추출\n",
    "sentences = df[text_column].values\n",
    "labels = df[label_column].values\n",
    "\n",
    "# 레이블 인코딩\n",
    "label_encoder = LabelEncoder()\n",
    "labels = label_encoder.fit_transform(labels)\n",
    "\n",
    "# 학습 및 검증 데이터로 분할\n",
    "train_sentences, val_sentences, train_labels, val_labels = train_test_split(\n",
    "    sentences, labels, test_size=0.2, random_state=42\n",
    ")\n",
    "\n",
    "# 토크나이저 및 인코딩\n",
    "tokenizer = AutoTokenizer.from_pretrained(\"monologg/koelectra-base-v3-generator\")\n",
    "train_encodings = tokenizer(train_sentences.tolist(), truncation=True, padding=True, max_length=32, return_tensors='pt')\n",
    "val_encodings = tokenizer(val_sentences.tolist(), truncation=True, padding=True, max_length=32, return_tensors='pt')\n",
    "\n",
    "# 레이블 텐서로 변환\n",
    "train_labels = torch.tensor(train_labels, dtype=torch.long)\n",
    "val_labels = torch.tensor(val_labels, dtype=torch.long)\n",
    "\n",
    "# 레이블 수 계산\n",
    "num_labels = len(set(labels))\n",
    "\n",
    "# 모델 로드\n",
    "model = AutoModelForSequenceClassification.from_pretrained(\"monologg/koelectra-base-v3-generator\", num_labels=num_labels)\n",
    "\n",
    "# 옵티마이저 설정 - PyTorch의 AdamW 사용\n",
    "optimizer = AdamW(model.parameters(), lr=5e-5)\n",
    "\n",
    "# 배치 크기 조정\n",
    "batch_size = 128\n",
    "\n",
    "# 모델 훈련\n",
    "model.train()\n",
    "for epoch in range(2):\n",
    "    for i in range(0, len(train_labels), batch_size):\n",
    "        optimizer.zero_grad()\n",
    "        batch_train_encodings = {key: val[i:i+batch_size] for key, val in train_encodings.items()}\n",
    "        batch_train_labels = train_labels[i:i+batch_size]\n",
    "        outputs = model(**batch_train_encodings, labels=batch_train_labels)\n",
    "        loss = outputs.loss\n",
    "        loss.backward()\n",
    "        optimizer.step() \n",
    "    print(f\"Epoch {epoch + 1}, Loss: {loss.item()}\")\n",
    "\n",
    "# 모델 저장 경로 설정\n",
    "model_save_path = \"C:/Users/Main/Desktop/dataset/koelectra_model.pth\"\n",
    "torch.save(model.state_dict(), model_save_path)\n",
    "print(f\"Model saved to {model_save_path}\")"
   ]
  }
 ],
 "metadata": {
  "kernelspec": {
   "display_name": "Python 3",
   "language": "python",
   "name": "python3"
  },
  "language_info": {
   "codemirror_mode": {
    "name": "ipython",
    "version": 3
   },
   "file_extension": ".py",
   "mimetype": "text/x-python",
   "name": "python",
   "nbconvert_exporter": "python",
   "pygments_lexer": "ipython3",
   "version": "3.12.3"
  }
 },
 "nbformat": 4,
 "nbformat_minor": 2
}
